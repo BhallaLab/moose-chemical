{
 "cells": [
  {
   "cell_type": "markdown",
   "metadata": {},
   "source": [
    "In this example, we setup another simple reaction $ A + B \\leftrightarrow C$ with forward rate const $k_f = 1$ and backward rate constant $k_b = 0.1$. Other parameters are same as in [previous example](./simple_reaction_1.ipynb)."
   ]
  },
  {
   "cell_type": "code",
   "execution_count": 1,
   "metadata": {
    "collapsed": true
   },
   "outputs": [],
   "source": [
    "%matplotlib inline\n",
    "import matplotlib.pyplot as plt\n",
    "import numpy\n",
    "import moose"
   ]
  },
  {
   "cell_type": "markdown",
   "metadata": {},
   "source": [
    "As before, we need to create a compartment in which reaction takes place. In this compartment, we add chemical species and initialize their concentration."
   ]
  },
  {
   "cell_type": "code",
   "execution_count": 2,
   "metadata": {
    "collapsed": true
   },
   "outputs": [],
   "source": [
    "# Compartment\n",
    "compt = moose.CubeMesh('/compt')\n",
    "compt.volume = 1e-15\n",
    "\n",
    "# Reactants and product\n",
    "a = moose.Pool('/compt/chemA')\n",
    "a.concInit = 10.0\n",
    "b = moose.Pool('/compt/chemB')\n",
    "b.concInit = 5.0\n",
    "c = moose.Pool('/compt/chemC')\n",
    "c.concInit = 0.0"
   ]
  },
  {
   "cell_type": "markdown",
   "metadata": {},
   "source": [
    "Now, we setup `moose.Reac` as before. This time, backward rate constant is non-zero."
   ]
  },
  {
   "cell_type": "code",
   "execution_count": 3,
   "metadata": {
    "collapsed": false
   },
   "outputs": [],
   "source": [
    "# Reaction in MOOSE.\n",
    "reac = moose.Reac('/compt/reac')\n",
    "reac.connect('sub', a, 'reac')  # substrate\n",
    "reac.connect('sub', b, 'reac')  # substrate\n",
    "reac.connect('prd', c, 'reac')  # product of reaction\n",
    "\n",
    "# Rate constants\n",
    "reac.Kf = 1.0\n",
    "reac.Kb = 0.1"
   ]
  },
  {
   "cell_type": "markdown",
   "metadata": {},
   "source": [
    "Let't set our recorders and use a finer time-step on clocks to get better numerical accuracy."
   ]
  },
  {
   "cell_type": "code",
   "execution_count": 4,
   "metadata": {
    "collapsed": true
   },
   "outputs": [],
   "source": [
    "outputA = moose.Table2('/a')\n",
    "outputB = moose.Table2('/b')\n",
    "outputC = moose.Table2('/c')\n",
    "outputA.connect('requestOut', a, 'getConc')\n",
    "outputB.connect('requestOut', b, 'getConc')\n",
    "outputC.connect('requestOut', c, 'getConc')\n",
    "\n",
    "# Making time-step value smaller to increase accuracy.\n",
    "for i in range(11, 15):\n",
    "    moose.setClock(i, 0.001)  # 0.001 seconds step size"
   ]
  },
  {
   "cell_type": "markdown",
   "metadata": {},
   "source": [
    "Let's simulate for 10 seconds and plot the results. We are expecting $\\frac{[c]}{[a][b]} = \\frac{k_f}{k_b} = 10$. "
   ]
  },
  {
   "cell_type": "code",
   "execution_count": 5,
   "metadata": {
    "collapsed": true
   },
   "outputs": [],
   "source": [
    "moose.reinit()\n",
    "moose.start(10)"
   ]
  },
  {
   "cell_type": "code",
   "execution_count": 6,
   "metadata": {
    "collapsed": false
   },
   "outputs": [
    {
     "data": {
      "image/png": "[encoded data removed]",
      "text/plain": [
       "<matplotlib.figure.Figure at 0x7f73e5791650>"
      ]
     },
     "metadata": {},
     "output_type": "display_data"
    }
   ],
   "source": [
    "for table in [outputA, outputB, outputC]:\n",
    "    t = numpy.arange(0, table.vector.size, 1)  # seconds\n",
    "    plt.plot(t, table.vector, label = table.name)\n",
    "plt.legend()\n",
    "plt.show()"
   ]
  },
  {
   "cell_type": "markdown",
   "metadata": {},
   "source": [
    "### Verification of results\n",
    "\n",
    "To verify that we are getting expected values at equilibrium, we get the equilibrium values of `a`, `b`, and `c`. "
   ]
  },
  {
   "cell_type": "code",
   "execution_count": 7,
   "metadata": {
    "collapsed": true
   },
   "outputs": [],
   "source": [
    "a_final, b_final, c_final = outputA.vector[-1], outputB.vector[-1], outputC.vector[-1]"
   ]
  },
  {
   "cell_type": "code",
   "execution_count": 9,
   "metadata": {
    "collapsed": false
   },
   "outputs": [
    {
     "name": "stdout",
     "output_type": "stream",
     "text": [
      "4.92150366219,5.08454537002,0.0967933867048\n",
      "10.0\n"
     ]
    }
   ],
   "source": [
    "print(\"%s,%s,%s\" % (c_final, a_final, b_final))\n",
    "print(c_final / (a_final * b_final))"
   ]
  },
  {
   "cell_type": "markdown",
   "metadata": {},
   "source": [
    "Which is correct."
   ]
  }
 ],
 "metadata": {
  "kernelspec": {
   "display_name": "Python 2",
   "language": "python",
   "name": "python2"
  },
  "language_info": {
   "codemirror_mode": {
    "name": "ipython",
    "version": 2
   },
   "file_extension": ".py",
   "mimetype": "text/x-python",
   "name": "python",
   "nbconvert_exporter": "python",
   "pygments_lexer": "ipython2",
   "version": "2.7.6"
  }
 },
 "nbformat": 4,
 "nbformat_minor": 0
}
