{
 "cells": [
  {
   "cell_type": "markdown",
   "metadata": {},
   "source": [
    "Let's setup our IPYTHON environment.\n"
   ]
  },
  {
   "cell_type": "code",
   "execution_count": 1,
   "metadata": {
    "collapsed": false
   },
   "outputs": [],
   "source": [
    "%matplotlib inline\n",
    "import moose\n",
    "import numpy \n",
    "import pylab"
   ]
  },
  {
   "cell_type": "markdown",
   "metadata": {},
   "source": [
    "We setup a very simple irreversible reaction $A + B \\rightarrow C$ with rate constant $k = 1$."
   ]
  },
  {
   "cell_type": "markdown",
   "metadata": {},
   "source": [
    "All chemical reaction happens in a compartment which has a volume (SI units, $m^{-3}$), and one can optionally specifies if compartment is diffusive or not (here we don't care)."
   ]
  },
  {
   "cell_type": "code",
   "execution_count": 2,
   "metadata": {
    "collapsed": false
   },
   "outputs": [],
   "source": [
    "compt = moose.CubeMesh('/compt')\n",
    "compt.volume = 1e-15"
   ]
  },
  {
   "cell_type": "markdown",
   "metadata": {},
   "source": [
    "This compartment should be filled with three chemical species, A, B, and C. MOOSE implement them as `Pool`. Another related class is `BufPool` which is used if concentration of chemical species remains constant during the reaction.\n",
    "\n",
    "Let's specifies our reactants and product of reaction and assign initial concentration to them."
   ]
  },
  {
   "cell_type": "code",
   "execution_count": 3,
   "metadata": {
    "collapsed": false
   },
   "outputs": [],
   "source": [
    "a = moose.Pool('/compt/chemA')\n",
    "a.concInit = 10.0\n",
    "b = moose.Pool('/compt/chemB')\n",
    "b.concInit = 5.0\n",
    "c = moose.Pool('/compt/chemC')\n",
    "c.concInit = 0.0"
   ]
  },
  {
   "cell_type": "markdown",
   "metadata": {},
   "source": [
    "The paths of a, b and c are under `/compt`. In such a scenario, MOOSE automatically assign `compt` volume to these pools."
   ]
  },
  {
   "cell_type": "code",
   "execution_count": 4,
   "metadata": {
    "collapsed": false
   },
   "outputs": [],
   "source": [
    "print(\"%s,%s,%s\" % (a.volume, b.volume, c.volume))"
   ]
  },
  {
   "cell_type": "markdown",
   "metadata": {},
   "source": [
    "Next, we create a reaction in MOOSE using `moose.Reac` class, and assign subtrate, product and rate constant."
   ]
  },
  {
   "cell_type": "code",
   "execution_count": 5,
   "metadata": {
    "collapsed": false
   },
   "outputs": [],
   "source": [
    "reac = moose.Reac('/compt/reac')\n",
    "reac.connect('sub', a, 'reac')  # substrate\n",
    "reac.connect('sub', b, 'reac')  # substrate\n",
    "reac.connect('prd', c, 'reac')  # product of reaction"
   ]
  },
  {
   "cell_type": "code",
   "execution_count": 6,
   "metadata": {
    "collapsed": false
   },
   "outputs": [],
   "source": [
    "reac.Kf = 1.0\n",
    "reac.Kb = 0.0 # no backward reaction "
   ]
  },
  {
   "cell_type": "markdown",
   "metadata": {},
   "source": [
    "Since we would like to see the results after simulation, we need to setup recorders. In MOOSE, this is achieved by setting up `moose.Table2` or `moose.Table`. Using `moose.Table2` is recommended for chemical reactions for these tables are designed for recording from chemical reactions and are faster, though `moose.Table` can also be used with same speed after modifying default `dt` parameters. We don't discuss them here."
   ]
  },
  {
   "cell_type": "code",
   "execution_count": 7,
   "metadata": {
    "collapsed": false
   },
   "outputs": [],
   "source": [
    "outputA = moose.Table2('/a')\n",
    "outputB = moose.Table2('/b')\n",
    "outputC = moose.Table2('/c')\n",
    "outputA.connect('requestOut', a, 'getConc')\n",
    "outputB.connect('requestOut', b, 'getConc')\n",
    "outputC.connect('requestOut', c, 'getConc')"
   ]
  },
  {
   "cell_type": "markdown",
   "metadata": {},
   "source": [
    "We have setup our reaction and tables in MOOSE. Its time to simulate and plot the results."
   ]
  },
  {
   "cell_type": "code",
   "execution_count": 8,
   "metadata": {
    "collapsed": false
   },
   "outputs": [],
   "source": [
    "moose.reinit()\n",
    "moose.start(10) # run for 10 seconds."
   ]
  },
  {
   "cell_type": "code",
   "execution_count": 9,
   "metadata": {
    "collapsed": false
   },
   "outputs": [
    {
     "data": {
      "image/png": "[encoded data removed]",
      "text/plain": [
       "<matplotlib.figure.Figure at 0x7f8dece51d90>"
      ]
     },
     "metadata": {},
     "output_type": "display_data"
    }
   ],
   "source": [
    "for table in [outputA, outputB, outputC]:\n",
    "    t = numpy.arange(0, table.vector.size, 1)  # seconds\n",
    "    pylab.plot(t, table.vector, label = table.name)\n",
    "pylab.legend()\n",
    "pylab.show()"
   ]
  },
  {
   "cell_type": "markdown",
   "metadata": {},
   "source": [
    "And we are done. NOTICE that _result is not correct_! Ideally at the end of this reaction, we must have equal concentration of a and c while b must go to zero. To be specific, all amount of b should react with equal no of molecules of a and produce c. The amount of c must be equal to the amount of b consumed."
   ]
  },
  {
   "cell_type": "markdown",
   "metadata": {},
   "source": [
    "Default settings in MOOSE are customised for quick chemical simulation which is very useful when it comes to simulation for very long time. When we make simulation faster, we loose accuracy!\n",
    "\n",
    "The simulation speed is configured by changing step size of `moose.Clock` associated with MOOSE class handling particular. The default clocks responsible for chemical simulations are numbered between 11 to 15. We can reduce their step size and redo the simulation with increased accuracy."
   ]
  },
  {
   "cell_type": "code",
   "execution_count": 10,
   "metadata": {
    "collapsed": false
   },
   "outputs": [],
   "source": [
    "for i in range(11, 15):\n",
    "    moose.setClock(i, 0.001)  # 0.001 seconds step size"
   ]
  },
  {
   "cell_type": "code",
   "execution_count": 11,
   "metadata": {
    "collapsed": false
   },
   "outputs": [],
   "source": [
    "moose.reinit()\n",
    "moose.start(10)"
   ]
  },
  {
   "cell_type": "code",
   "execution_count": 12,
   "metadata": {
    "collapsed": false
   },
   "outputs": [
    {
     "data": {
      "image/png": "[encoded data removed]",
      "text/plain": [
       "<matplotlib.figure.Figure at 0x7f8decd49c50>"
      ]
     },
     "metadata": {},
     "output_type": "display_data"
    }
   ],
   "source": [
    "for table in [outputA, outputB, outputC]:\n",
    "    t = numpy.arange(0, table.vector.size, 1)  # seconds\n",
    "    pylab.plot(t, table.vector, label = table.name)\n",
    "pylab.legend()\n",
    "pylab.show()"
   ]
  },
  {
   "cell_type": "markdown",
   "metadata": {},
   "source": [
    "This looks more promising and correct."
   ]
  },
  {
   "cell_type": "markdown",
   "metadata": {},
   "source": [
    "- [A simple irreversible reaction](./simple_reaction_reversible.ipynb)"
   ]
  }
 ],
 "metadata": {
  "kernelspec": {
   "display_name": "Python 2",
   "language": "python",
   "name": "python2"
  },
  "language_info": {
   "codemirror_mode": {
    "name": "ipython",
    "version": 2
   },
   "file_extension": ".py",
   "mimetype": "text/x-python",
   "name": "python",
   "nbconvert_exporter": "python",
   "pygments_lexer": "ipython2",
   "version": "2.7.6"
  }
 },
 "nbformat": 4,
 "nbformat_minor": 0
}
