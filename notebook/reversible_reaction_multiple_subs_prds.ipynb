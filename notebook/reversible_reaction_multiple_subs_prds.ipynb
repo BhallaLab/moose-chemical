{
 "cells": [
  {
   "cell_type": "markdown",
   "metadata": {},
   "source": [
    "We create a reaction with multiple substrates and multiple products e.g. $a + 2b \\leftrightarrow 2c + d$. This is actually quite straight-forward extention of previous examples. "
   ]
  },
  {
   "cell_type": "markdown",
   "metadata": {},
   "source": [
    "Let's setup the environment."
   ]
  },
  {
   "cell_type": "code",
   "execution_count": 1,
   "metadata": {
    "collapsed": true
   },
   "outputs": [],
   "source": [
    "%matplotlib inline\n",
    "import moose\n",
    "import matplotlib.pyplot as plt\n",
    "import numpy"
   ]
  },
  {
   "cell_type": "markdown",
   "metadata": {},
   "source": [
    "As usual, the program contains following flow: \n",
    "\n",
    "- Initialize compartment\n",
    "- Initialize reactants and products using `moose.Pool`\n",
    "- Initialize reaction, setup rate constant and add substrate and products.\n",
    "- [Optional] For better accuracy, decrease the step size.\n",
    "- Setup recorders to get the data.\n",
    "- Run and plot."
   ]
  },
  {
   "cell_type": "code",
   "execution_count": 2,
   "metadata": {
    "collapsed": true
   },
   "outputs": [],
   "source": [
    "# initialize compartment\n",
    "a = moose.CubeMesh('/compartment')\n",
    "a.volume = 1e-15"
   ]
  },
  {
   "cell_type": "code",
   "execution_count": 3,
   "metadata": {
    "collapsed": true
   },
   "outputs": [],
   "source": [
    "pools = []\n",
    "for i in ['a', 'b','c', 'd']:\n",
    "    pools.append(moose.Pool('/compartment/%s'%i))\n",
    "a, b, c, d = pools    "
   ]
  },
  {
   "cell_type": "code",
   "execution_count": 4,
   "metadata": {
    "collapsed": true
   },
   "outputs": [],
   "source": [
    "# initialize substrate concentrations. SI units.\n",
    "a.concInit = 10.0\n",
    "b.concInit = 13.0 \n",
    "c.concInit = 4.0\n",
    "d.concInit = 0.0"
   ]
  },
  {
   "cell_type": "code",
   "execution_count": 5,
   "metadata": {
    "collapsed": false
   },
   "outputs": [
    {
     "data": {
      "text/plain": [
       "<moose.SingleMsg: id=5, dataIndex=5, path=/Msgs[0]/singleMsg[5]>"
      ]
     },
     "execution_count": 5,
     "metadata": {},
     "output_type": "execute_result"
    }
   ],
   "source": [
    "# setup reaction\n",
    "reac = moose.Reac('/compartment/reac')\n",
    "reac.Kf = 1.0\n",
    "reac.Kb = 1.0\n",
    "reac.connect('sub', a, 'reac')\n",
    "reac.connect('sub', b, 'reac')\n",
    "reac.connect('sub', b, 'reac')   # because of 2b\n",
    "reac.connect('prd', c, 'reac')\n",
    "reac.connect('prd', c, 'reac')  # because of 2c\n",
    "reac.connect('prd', d, 'reac')"
   ]
  },
  {
   "cell_type": "markdown",
   "metadata": {},
   "source": [
    "Species $a$ and $b$ are substrates to this reaction while $c$ and $d$ are products. All products are initialized to 0.0 $mole/m^{-3}$ by default.\n",
    "\n",
    "Now, lets add recorders (`moose.Table`)."
   ]
  },
  {
   "cell_type": "code",
   "execution_count": 6,
   "metadata": {
    "collapsed": false
   },
   "outputs": [
    {
     "data": {
      "text/plain": [
       "<moose.SingleMsg: id=5, dataIndex=9, path=/Msgs[0]/singleMsg[9]>"
      ]
     },
     "execution_count": 6,
     "metadata": {},
     "output_type": "execute_result"
    }
   ],
   "source": [
    "tables = []\n",
    "for t in ['a','b','c','d']:\n",
    "    tab = moose.Table2('/%s'%t)\n",
    "    tables.append(tab)\n",
    "tabA, tabB, tabC, tabD = tables\n",
    "tabA.connect('requestOut', a, 'getConc')\n",
    "tabB.connect('requestOut', b, 'getConc')\n",
    "tabC.connect('requestOut', c, 'getConc')\n",
    "tabD.connect('requestOut', d, 'getConc')"
   ]
  },
  {
   "cell_type": "markdown",
   "metadata": {
    "collapsed": true
   },
   "source": [
    "Now run the simulation of 10 seconds and plot the results. Don't forget to reduce the timestep of clocks responsible for chemical entities in MOOSE."
   ]
  },
  {
   "cell_type": "code",
   "execution_count": 7,
   "metadata": {
    "collapsed": false
   },
   "outputs": [
    {
     "data": {
      "image/png": "[encoded data removed]",
      "text/plain": [
       "<matplotlib.figure.Figure at 0x7fb779756dd0>"
      ]
     },
     "metadata": {},
     "output_type": "display_data"
    }
   ],
   "source": [
    "for i in range(10, 16):\n",
    "    moose.setClock(i, 0.001)\n",
    "    \n",
    "moose.reinit()   # reinitialize moose\n",
    "moose.start(10.0)\n",
    "for tab in tables:\n",
    "    t = numpy.linspace(0, 10.0, tab.vector.size)\n",
    "    plt.plot(t, tab.vector, label=tab.name)\n",
    "plt.legend()\n",
    "plt.xlabel(\"Time in sec\")\n",
    "plt.ylabel(\"Conc. SI units\")\n",
    "plt.show()"
   ]
  },
  {
   "cell_type": "markdown",
   "metadata": {},
   "source": [
    "At eqilibrium, concentration of reactants and products are shown above. "
   ]
  }
 ],
 "metadata": {
  "kernelspec": {
   "display_name": "Python 2",
   "language": "python",
   "name": "python2"
  },
  "language_info": {
   "codemirror_mode": {
    "name": "ipython",
    "version": 2
   },
   "file_extension": ".py",
   "mimetype": "text/x-python",
   "name": "python",
   "nbconvert_exporter": "python",
   "pygments_lexer": "ipython2",
   "version": "2.7.6"
  }
 },
 "nbformat": 4,
 "nbformat_minor": 0
}
