{
 "cells": [
  {
   "cell_type": "markdown",
   "metadata": {},
   "source": [
    "We create a reaction with multiple substrates and multiple products e.g. $a + b \\leftrightarrow c + d$. This is actually quite straight-forward extention of previous examples. "
   ]
  },
  {
   "cell_type": "markdown",
   "metadata": {},
   "source": [
    "Let's setup the environment."
   ]
  },
  {
   "cell_type": "code",
   "execution_count": 1,
   "metadata": {
    "collapsed": true
   },
   "outputs": [],
   "source": [
    "%matplotlib inline\n",
    "import moose\n",
    "import matplotlib\n",
    "import numpy"
   ]
  },
  {
   "cell_type": "markdown",
   "metadata": {},
   "source": [
    "As usual, the program contains following flow: \n",
    "\n",
    "- Initialize compartment\n",
    "- Initialize reactants and products using `moose.Pool`\n",
    "- Initialize reaction, setup rate constant and add substrate and products.\n",
    "- [Optional] For better accuracy, decrease the step size.\n",
    "- Setup recorders to get the data.\n",
    "- Run and plot."
   ]
  },
  {
   "cell_type": "code",
   "execution_count": 2,
   "metadata": {
    "collapsed": true
   },
   "outputs": [],
   "source": [
    "# initialize compartment\n",
    "a = moose.CubeMesh('/compartment')\n",
    "a.volume = 1e-15"
   ]
  },
  {
   "cell_type": "code",
   "execution_count": 3,
   "metadata": {
    "collapsed": true
   },
   "outputs": [],
   "source": [
    "pools = []\n",
    "for i in ['a', 'b','c', 'd']:\n",
    "    pools.append(moose.Pool('/compartment/%s'%i))\n",
    "a, b, c, d = pools    "
   ]
  },
  {
   "cell_type": "code",
   "execution_count": 4,
   "metadata": {
    "collapsed": true
   },
   "outputs": [],
   "source": [
    "# initialize substrate concentrations. SI units.\n",
    "a.concInit = 10.0\n",
    "b.concInit = 3.0 "
   ]
  },
  {
   "cell_type": "code",
   "execution_count": 6,
   "metadata": {
    "collapsed": false
   },
   "outputs": [
    {
     "data": {
      "text/plain": [
       "<moose.SingleMsg: id=5, dataIndex=5, path=/Msgs[0]/singleMsg[5]>"
      ]
     },
     "execution_count": 6,
     "metadata": {},
     "output_type": "execute_result"
    }
   ],
   "source": [
    "# setup reaction\n",
    "reac = moose.Reac('/compartment/reac')\n",
    "reac.Kf = 10.0\n",
    "reac.Kb = 1.0\n",
    "reac.connect('sub', a, 'reac')\n",
    "reac.connect('sub', b, 'reac')\n",
    "reac.connect('prd', c, 'reac')\n",
    "reac.connect('prd', d, 'reac')"
   ]
  },
  {
   "cell_type": "markdown",
   "metadata": {},
   "source": [
    "Species $a$ and $b$ are substrates to this reaction while $c$ and $d$ are products. All products are initialized to 0.0 $mole/m^{-3}$ by default.\n",
    "\n",
    "Now, lets add recorders (`moose.Table`)."
   ]
  },
  {
   "cell_type": "code",
   "execution_count": 9,
   "metadata": {
    "collapsed": false
   },
   "outputs": [
    {
     "data": {
      "text/plain": [
       "<moose.SingleMsg: id=5, dataIndex=9, path=/Msgs[0]/singleMsg[9]>"
      ]
     },
     "execution_count": 9,
     "metadata": {},
     "output_type": "execute_result"
    }
   ],
   "source": [
    "tables = []\n",
    "for t in ['a','b','c','d']:\n",
    "    tab = moose.Table('/%s'%t)\n",
    "    tables.append(tab)\n",
    "tabA, tabB, tabC, tabD = tables\n",
    "tabA.connect('requestOut', a, 'getConc')\n",
    "tabB.connect('requestOut', b, 'getConc')\n",
    "tabC.connect('requestOut', c, 'getConc')\n",
    "tabD.connect('requestOut', d, 'getConc')"
   ]
  },
  {
   "cell_type": "code",
   "execution_count": null,
   "metadata": {
    "collapsed": true
   },
   "outputs": [],
   "source": []
  }
 ],
 "metadata": {
  "kernelspec": {
   "display_name": "Python 2",
   "language": "python",
   "name": "python2"
  },
  "language_info": {
   "codemirror_mode": {
    "name": "ipython",
    "version": 2
   },
   "file_extension": ".py",
   "mimetype": "text/x-python",
   "name": "python",
   "nbconvert_exporter": "python",
   "pygments_lexer": "ipython2",
   "version": "2.7.6"
  }
 },
 "nbformat": 4,
 "nbformat_minor": 0
}
