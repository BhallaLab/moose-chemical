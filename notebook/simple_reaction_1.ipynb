{
 "metadata": {
  "name": ""
 },
 "nbformat": 3,
 "nbformat_minor": 0,
 "worksheets": [
  {
   "cells": [
    {
     "cell_type": "markdown",
     "metadata": {},
     "source": [
      "In this example, we setup a very simple reaction $A + B \\rightarrow C$ in MOOSE. The rate constant of this reaction is $k = 10$."
     ]
    },
    {
     "cell_type": "code",
     "collapsed": false,
     "input": [
      "%matplotlib inline\n",
      "import moose\n",
      "import numpy \n",
      "import pylab"
     ],
     "language": "python",
     "metadata": {},
     "outputs": [],
     "prompt_number": 1
    },
    {
     "cell_type": "markdown",
     "metadata": {},
     "source": [
      "All chemical reaction happens in a compartment which has a volume (SI units, $m^{-3}$), and one can optionally specifies if compartment is diffusive or not (here we don't care)."
     ]
    },
    {
     "cell_type": "code",
     "collapsed": false,
     "input": [
      "compt = moose.CubeMesh('/compt')\n",
      "compt.volume = 1e-15"
     ],
     "language": "python",
     "metadata": {},
     "outputs": [],
     "prompt_number": 2
    },
    {
     "cell_type": "markdown",
     "metadata": {},
     "source": [
      "This compartment should be filled with three chemical species, A, B, and C. MOOSE implement them as `Pool`. Another related class is `BufPool` which is used if concentration of chemical species remains constant during the reaction.\n",
      "\n",
      "Let's specifies our reactants and product of reaction and assign initial concentration to them."
     ]
    },
    {
     "cell_type": "code",
     "collapsed": false,
     "input": [
      "a = moose.Pool('/compt/chemA')\n",
      "a.concInit = 10.0\n",
      "b = moose.Pool('/compt/chemB')\n",
      "b.concInit = 1.0\n",
      "c = moose.Pool('/compt/chemC')\n",
      "c.concInit = 0.0"
     ],
     "language": "python",
     "metadata": {},
     "outputs": [],
     "prompt_number": 3
    },
    {
     "cell_type": "markdown",
     "metadata": {},
     "source": [
      "The paths of a, b and c are under `/compt`. In such a scenario, MOOSE automatically assign `compt` volume to these pools."
     ]
    },
    {
     "cell_type": "code",
     "collapsed": false,
     "input": [
      "print(\"%s,%s,%s\" % (a.volume, b.volume, c.volume))"
     ],
     "language": "python",
     "metadata": {},
     "outputs": [
      {
       "output_type": "stream",
       "stream": "stdout",
       "text": [
        "1e-15,1e-15,1e-15\n"
       ]
      }
     ],
     "prompt_number": 4
    },
    {
     "cell_type": "markdown",
     "metadata": {},
     "source": [
      "Next, we create a reaction in MOOSE using `moose.Reac` class, and assign subtrate, product and rate constant."
     ]
    },
    {
     "cell_type": "code",
     "collapsed": false,
     "input": [
      "reac = moose.Reac('/compt/reac')\n",
      "reac.connect('sub', a, 'reac')\n",
      "reac.connect('sub', b, 'reac')\n",
      "reac.connect('prd', c, 'reac')"
     ],
     "language": "python",
     "metadata": {},
     "outputs": [
      {
       "metadata": {},
       "output_type": "pyout",
       "prompt_number": 5,
       "text": [
        "<moose.SingleMsg: id=5, dataIndex=2, path=/Msgs[0]/singleMsg[2]>"
       ]
      }
     ],
     "prompt_number": 5
    },
    {
     "cell_type": "code",
     "collapsed": false,
     "input": [
      "reac.Kf = 10\n",
      "reac.Kb = 0.0 # no backward reaction "
     ],
     "language": "python",
     "metadata": {},
     "outputs": [],
     "prompt_number": 6
    },
    {
     "cell_type": "markdown",
     "metadata": {},
     "source": [
      "Since we would like to see the results after simulation, we need to setup recorders. In MOOSE, this is achieved by setting up `moose.Table2` or `moose.Table`. Using `moose.Table2` is recommended for chemical reactions for these tables are designed for recording from chemical reactions and are faster, though `moose.Table` can also be used with same speed after modifying default `dt` parameters. We don't discuss them here."
     ]
    },
    {
     "cell_type": "code",
     "collapsed": false,
     "input": [
      "outputA = moose.Table2('/a')\n",
      "outputB = moose.Table2('/b')\n",
      "outputC = moose.Table2('/c')\n",
      "outputA.connect('requestOut', a, 'getConc')\n",
      "outputB.connect('requestOut', b, 'getConc')\n",
      "outputC.connect('requestOut', c, 'getConc')"
     ],
     "language": "python",
     "metadata": {},
     "outputs": [
      {
       "metadata": {},
       "output_type": "pyout",
       "prompt_number": 7,
       "text": [
        "<moose.SingleMsg: id=5, dataIndex=5, path=/Msgs[0]/singleMsg[5]>"
       ]
      }
     ],
     "prompt_number": 7
    },
    {
     "cell_type": "markdown",
     "metadata": {},
     "source": [
      "We have setup our reaction and tables in MOOSE. Its time to simulate and plot the results."
     ]
    },
    {
     "cell_type": "code",
     "collapsed": false,
     "input": [
      "moose.reinit()\n",
      "moose.start(10) # run for 10 seconds."
     ],
     "language": "python",
     "metadata": {},
     "outputs": [],
     "prompt_number": 8
    },
    {
     "cell_type": "code",
     "collapsed": false,
     "input": [
      "for table in [outputA, outputB, outputC]:\n",
      "    t = numpy.arange(0, table.vector.size, 1)  # seconds\n",
      "    pylab.plot(t, table.vector, label = table.name)\n",
      "pylab.legend()\n",
      "pylab.show()"
     ],
     "language": "python",
     "metadata": {},
     "outputs": [
      {
       "metadata": {},
       "output_type": "display_data",
       "png": "[encoded data removed]",
       "text": [
        "<matplotlib.figure.Figure at 0x7f56c04b0550>"
       ]
      }
     ],
     "prompt_number": 9
    },
    {
     "cell_type": "markdown",
     "metadata": {},
     "source": [
      "And we are done!"
     ]
    }
   ],
   "metadata": {}
  }
 ]
}